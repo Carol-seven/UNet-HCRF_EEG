{
 "cells": [
  {
   "cell_type": "code",
   "id": "initial_id",
   "metadata": {
    "collapsed": true,
    "ExecuteTime": {
     "end_time": "2024-12-06T20:59:58.450779Z",
     "start_time": "2024-12-06T20:59:58.447219Z"
    }
   },
   "source": [
    "import os, gc\n",
    "os.environ[\"CUDA_VISIBLE_DEVICES\"]=\"0,1\"\n",
    "# import tensorflow as tf\n",
    "import pandas as pd, numpy as np\n",
    "import matplotlib.pyplot as plt\n",
    "# print('TensorFlow version =',tf.__version__)"
   ],
   "outputs": [],
   "execution_count": 9
  },
  {
   "metadata": {
    "ExecuteTime": {
     "end_time": "2024-12-06T21:58:28.161600Z",
     "start_time": "2024-12-06T21:58:25.069931Z"
    }
   },
   "cell_type": "code",
   "source": [
    "from utility import UNet_layer\n",
    "from UNet_HCRF_model import unet_global"
   ],
   "id": "11594ef761daafa2",
   "outputs": [
    {
     "ename": "NotFoundError",
     "evalue": "dlopen(/Users/maxiaohang/miniforge3/lib/python3.9/site-packages/tensorflow-plugins/libmetal_plugin.dylib, 0x0006): Symbol not found: __ZN10tensorflow16TensorShapeProtoC1ERKS0_\n  Referenced from: <10B7FC95-0B10-3E4E-84D0-79A2D52E4D78> /Users/maxiaohang/miniforge3/lib/python3.9/site-packages/tensorflow-plugins/libmetal_plugin.dylib\n  Expected in:     <70E47AF7-0018-34CB-8676-A89EF044ED50> /Users/maxiaohang/miniforge3/lib/python3.9/site-packages/tensorflow/python/_pywrap_tensorflow_internal.so",
     "output_type": "error",
     "traceback": [
      "\u001B[0;31m---------------------------------------------------------------------------\u001B[0m",
      "\u001B[0;31mNotFoundError\u001B[0m                             Traceback (most recent call last)",
      "Cell \u001B[0;32mIn[18], line 1\u001B[0m\n\u001B[0;32m----> 1\u001B[0m \u001B[38;5;28;01mfrom\u001B[39;00m \u001B[38;5;21;01mutility\u001B[39;00m \u001B[38;5;28;01mimport\u001B[39;00m UNet_layer\n\u001B[1;32m      2\u001B[0m \u001B[38;5;28;01mfrom\u001B[39;00m \u001B[38;5;21;01mUNet_HCRF_model\u001B[39;00m \u001B[38;5;28;01mimport\u001B[39;00m unet_global\n",
      "File \u001B[0;32m~/DataspellProjects/cse-5830/cse-5830/Code_for_Xiaohui/utility.py:1\u001B[0m\n\u001B[0;32m----> 1\u001B[0m \u001B[38;5;28;01mfrom\u001B[39;00m \u001B[38;5;21;01mtensorflow\u001B[39;00m\u001B[38;5;21;01m.\u001B[39;00m\u001B[38;5;21;01mkeras\u001B[39;00m\u001B[38;5;21;01m.\u001B[39;00m\u001B[38;5;21;01mmodels\u001B[39;00m \u001B[38;5;28;01mimport\u001B[39;00m Model\n\u001B[1;32m      2\u001B[0m \u001B[38;5;28;01mfrom\u001B[39;00m \u001B[38;5;21;01mtensorflow\u001B[39;00m\u001B[38;5;21;01m.\u001B[39;00m\u001B[38;5;21;01mkeras\u001B[39;00m\u001B[38;5;21;01m.\u001B[39;00m\u001B[38;5;21;01mlayers\u001B[39;00m \u001B[38;5;28;01mimport\u001B[39;00m Input, concatenate, Conv2D, AveragePooling2D, UpSampling2D, \\\n\u001B[1;32m      3\u001B[0m   BatchNormalization, Activation, LeakyReLU, Dropout\n\u001B[1;32m      4\u001B[0m \u001B[38;5;28;01mfrom\u001B[39;00m \u001B[38;5;21;01mtensorflow\u001B[39;00m\u001B[38;5;21;01m.\u001B[39;00m\u001B[38;5;21;01mkeras\u001B[39;00m\u001B[38;5;21;01m.\u001B[39;00m\u001B[38;5;21;01mlayers\u001B[39;00m \u001B[38;5;28;01mimport\u001B[39;00m Layer, InputSpec\n",
      "File \u001B[0;32m~/miniforge3/lib/python3.9/site-packages/tensorflow/__init__.py:445\u001B[0m\n\u001B[1;32m    443\u001B[0m _plugin_dir \u001B[38;5;241m=\u001B[39m _os\u001B[38;5;241m.\u001B[39mpath\u001B[38;5;241m.\u001B[39mjoin(_s, \u001B[38;5;124m\"\u001B[39m\u001B[38;5;124mtensorflow-plugins\u001B[39m\u001B[38;5;124m\"\u001B[39m)\n\u001B[1;32m    444\u001B[0m \u001B[38;5;28;01mif\u001B[39;00m _os\u001B[38;5;241m.\u001B[39mpath\u001B[38;5;241m.\u001B[39mexists(_plugin_dir):\n\u001B[0;32m--> 445\u001B[0m   \u001B[43m_ll\u001B[49m\u001B[38;5;241;43m.\u001B[39;49m\u001B[43mload_library\u001B[49m\u001B[43m(\u001B[49m\u001B[43m_plugin_dir\u001B[49m\u001B[43m)\u001B[49m\n\u001B[1;32m    446\u001B[0m   \u001B[38;5;66;03m# Load Pluggable Device Library\u001B[39;00m\n\u001B[1;32m    447\u001B[0m   _ll\u001B[38;5;241m.\u001B[39mload_pluggable_device_library(_plugin_dir)\n",
      "File \u001B[0;32m~/miniforge3/lib/python3.9/site-packages/tensorflow/python/framework/load_library.py:151\u001B[0m, in \u001B[0;36mload_library\u001B[0;34m(library_location)\u001B[0m\n\u001B[1;32m    148\u001B[0m     kernel_libraries \u001B[38;5;241m=\u001B[39m [library_location]\n\u001B[1;32m    150\u001B[0m   \u001B[38;5;28;01mfor\u001B[39;00m lib \u001B[38;5;129;01min\u001B[39;00m kernel_libraries:\n\u001B[0;32m--> 151\u001B[0m     \u001B[43mpy_tf\u001B[49m\u001B[38;5;241;43m.\u001B[39;49m\u001B[43mTF_LoadLibrary\u001B[49m\u001B[43m(\u001B[49m\u001B[43mlib\u001B[49m\u001B[43m)\u001B[49m\n\u001B[1;32m    153\u001B[0m \u001B[38;5;28;01melse\u001B[39;00m:\n\u001B[1;32m    154\u001B[0m   \u001B[38;5;28;01mraise\u001B[39;00m \u001B[38;5;167;01mOSError\u001B[39;00m(\n\u001B[1;32m    155\u001B[0m       errno\u001B[38;5;241m.\u001B[39mENOENT,\n\u001B[1;32m    156\u001B[0m       \u001B[38;5;124m'\u001B[39m\u001B[38;5;124mThe file or folder to load kernel libraries from does not exist.\u001B[39m\u001B[38;5;124m'\u001B[39m,\n\u001B[1;32m    157\u001B[0m       library_location)\n",
      "\u001B[0;31mNotFoundError\u001B[0m: dlopen(/Users/maxiaohang/miniforge3/lib/python3.9/site-packages/tensorflow-plugins/libmetal_plugin.dylib, 0x0006): Symbol not found: __ZN10tensorflow16TensorShapeProtoC1ERKS0_\n  Referenced from: <10B7FC95-0B10-3E4E-84D0-79A2D52E4D78> /Users/maxiaohang/miniforge3/lib/python3.9/site-packages/tensorflow-plugins/libmetal_plugin.dylib\n  Expected in:     <70E47AF7-0018-34CB-8676-A89EF044ED50> /Users/maxiaohang/miniforge3/lib/python3.9/site-packages/tensorflow/python/_pywrap_tensorflow_internal.so"
     ]
    }
   ],
   "execution_count": 18
  },
  {
   "metadata": {},
   "cell_type": "code",
   "outputs": [],
   "execution_count": null,
   "source": "! pip3 install importlib",
   "id": "7834d5768d078384"
  },
  {
   "metadata": {},
   "cell_type": "code",
   "outputs": [],
   "execution_count": null,
   "source": "! pip install -U git+https://github.com/albumentations-team/albumentations",
   "id": "91935d81271c9f66"
  },
  {
   "metadata": {
    "ExecuteTime": {
     "end_time": "2024-12-06T20:59:32.580745Z",
     "start_time": "2024-12-06T20:59:32.567646Z"
    }
   },
   "cell_type": "code",
   "source": [
    "# READ ALL SPECTROGRAMS\n",
    "# PATH = './dataset/train_spectrograms/'\n",
    "# files = os.listdir(PATH)\n",
    "# print(f'There are {len(files)} spectrogram parquets')\n"
   ],
   "id": "32a210e6950bcff0",
   "outputs": [
    {
     "ename": "FileNotFoundError",
     "evalue": "[Errno 2] No such file or directory: './dataset/train_spectrograms/'",
     "output_type": "error",
     "traceback": [
      "\u001B[0;31m---------------------------------------------------------------------------\u001B[0m",
      "\u001B[0;31mFileNotFoundError\u001B[0m                         Traceback (most recent call last)",
      "Cell \u001B[0;32mIn[4], line 3\u001B[0m\n\u001B[1;32m      1\u001B[0m \u001B[38;5;66;03m# READ ALL SPECTROGRAMS\u001B[39;00m\n\u001B[1;32m      2\u001B[0m PATH \u001B[38;5;241m=\u001B[39m \u001B[38;5;124m'\u001B[39m\u001B[38;5;124m./dataset/train_spectrograms/\u001B[39m\u001B[38;5;124m'\u001B[39m\n\u001B[0;32m----> 3\u001B[0m files \u001B[38;5;241m=\u001B[39m \u001B[43mos\u001B[49m\u001B[38;5;241;43m.\u001B[39;49m\u001B[43mlistdir\u001B[49m\u001B[43m(\u001B[49m\u001B[43mPATH\u001B[49m\u001B[43m)\u001B[49m\n\u001B[1;32m      4\u001B[0m \u001B[38;5;28mprint\u001B[39m(\u001B[38;5;124mf\u001B[39m\u001B[38;5;124m'\u001B[39m\u001B[38;5;124mThere are \u001B[39m\u001B[38;5;132;01m{\u001B[39;00m\u001B[38;5;28mlen\u001B[39m(files)\u001B[38;5;132;01m}\u001B[39;00m\u001B[38;5;124m spectrogram parquets\u001B[39m\u001B[38;5;124m'\u001B[39m)\n",
      "\u001B[0;31mFileNotFoundError\u001B[0m: [Errno 2] No such file or directory: './dataset/train_spectrograms/'"
     ]
    }
   ],
   "execution_count": 4
  },
  {
   "metadata": {
    "ExecuteTime": {
     "end_time": "2024-12-06T20:59:32.916484Z",
     "start_time": "2024-12-06T20:59:32.903009Z"
    }
   },
   "cell_type": "code",
   "source": [
    "# READ ALL SPECTROGRAMS\n",
    "# PATH = './dataset/EEG_Spectrograms/'\n",
    "# files = os.listdir(PATH)\n",
    "# print(f'There are {len(files)} EEG spectrogram parquets')\n"
   ],
   "id": "b5c2771e1ed4e63e",
   "outputs": [
    {
     "ename": "FileNotFoundError",
     "evalue": "[Errno 2] No such file or directory: './dataset/EEG_Spectrograms/'",
     "output_type": "error",
     "traceback": [
      "\u001B[0;31m---------------------------------------------------------------------------\u001B[0m",
      "\u001B[0;31mFileNotFoundError\u001B[0m                         Traceback (most recent call last)",
      "Cell \u001B[0;32mIn[5], line 3\u001B[0m\n\u001B[1;32m      1\u001B[0m \u001B[38;5;66;03m# READ ALL SPECTROGRAMS\u001B[39;00m\n\u001B[1;32m      2\u001B[0m PATH \u001B[38;5;241m=\u001B[39m \u001B[38;5;124m'\u001B[39m\u001B[38;5;124m./dataset/EEG_Spectrograms/\u001B[39m\u001B[38;5;124m'\u001B[39m\n\u001B[0;32m----> 3\u001B[0m files \u001B[38;5;241m=\u001B[39m \u001B[43mos\u001B[49m\u001B[38;5;241;43m.\u001B[39;49m\u001B[43mlistdir\u001B[49m\u001B[43m(\u001B[49m\u001B[43mPATH\u001B[49m\u001B[43m)\u001B[49m\n\u001B[1;32m      4\u001B[0m \u001B[38;5;28mprint\u001B[39m(\u001B[38;5;124mf\u001B[39m\u001B[38;5;124m'\u001B[39m\u001B[38;5;124mThere are \u001B[39m\u001B[38;5;132;01m{\u001B[39;00m\u001B[38;5;28mlen\u001B[39m(files)\u001B[38;5;132;01m}\u001B[39;00m\u001B[38;5;124m EEG spectrogram parquets\u001B[39m\u001B[38;5;124m'\u001B[39m)\n",
      "\u001B[0;31mFileNotFoundError\u001B[0m: [Errno 2] No such file or directory: './dataset/EEG_Spectrograms/'"
     ]
    }
   ],
   "execution_count": 5
  },
  {
   "metadata": {
    "ExecuteTime": {
     "end_time": "2024-12-06T21:00:10.960206Z",
     "start_time": "2024-12-06T21:00:10.399455Z"
    }
   },
   "cell_type": "code",
   "source": [
    "# train = pd.read_csv('./dataset/train.csv')\n",
    "\n",
    "################\n",
    "df = pd.read_csv('./dataset/train.csv')\n",
    "TARGETS = df.columns[-6:]\n",
    "\n",
    "train = df.groupby('eeg_id')[['spectrogram_id','spectrogram_label_offset_seconds']].agg(\n",
    "    {'spectrogram_id':'first','spectrogram_label_offset_seconds':'min'})\n",
    "train.columns = ['spectrogram_id','spec_min']\n",
    "\n",
    "tmp = df.groupby('eeg_id')[['spectrogram_id','spectrogram_label_offset_seconds']].agg(\n",
    "    {'spectrogram_label_offset_seconds':'max'})\n",
    "train['spec_max'] = tmp\n",
    "\n",
    "tmp = df.groupby('eeg_id')[['spectrogram_id', 'eeg_label_offset_seconds']].agg(\n",
    "    {'eeg_label_offset_seconds':'min' }\n",
    ")\n",
    "train['eeg_min'] = tmp\n",
    "\n",
    "tmp = df.groupby('eeg_id')[['spectrogram_id', 'eeg_label_offset_seconds']].agg(\n",
    "    {'eeg_label_offset_seconds':'max' }\n",
    ")\n",
    "train['eeg_max'] = tmp\n",
    "\n",
    "tmp = df.groupby('eeg_id')[['spectrogram_id', 'eeg_label_offset_seconds']].agg(\n",
    "    {'eeg_label_offset_seconds':'mean' }\n",
    ")\n",
    "train['eeg_mean'] = tmp\n",
    "\n",
    "tmp = df.groupby('eeg_id')[['patient_id']].agg('first')\n",
    "train['patient_id'] = tmp\n",
    "\n",
    "tmp = df.groupby('eeg_id')[TARGETS].agg('sum')\n",
    "train['expert_numner'] = tmp.sum(axis=1)\n",
    "for t in TARGETS:\n",
    "    train[t] = tmp[t].values\n",
    "\n",
    "y_data = train[TARGETS].values\n",
    "y_data = y_data / y_data.sum(axis=1,keepdims=True)\n",
    "train[TARGETS] = y_data\n",
    "\n",
    "tmp = df.groupby('eeg_id')[['expert_consensus']].agg('first')\n",
    "train['target'] = tmp\n",
    "\n",
    "train = train.reset_index()\n",
    "print('Train non-overlapp eeg_id shape:', train.shape )\n",
    "train.head()\n",
    "####################\n",
    "\n",
    "TARGETS = train.columns[-7:-1]\n",
    "print('Train shape:', train.shape )\n",
    "print('Targets', list(TARGETS))\n",
    "print('Unique EEG id:', train.eeg_id.unique().shape)\n",
    "print('Spectrogram id:', train.spectrogram_id.unique().shape)\n",
    "print('Unique EEG_Spectrogram id:', train.groupby(['eeg_id', 'spectrogram_id']).agg('first').shape[0])\n",
    "# tmp_index = train.eeg_label_offset_seconds > train.spectrogram_label_offset_seconds\n",
    "# print('Eeg offset time longer: ', train[tmp_index].shape[0])\n",
    "# tmp_index = train.eeg_label_offset_seconds < train.spectrogram_label_offset_seconds\n",
    "# print('Spectrogram offset time longer: ', train[tmp_index].shape[0])\n",
    "tmp = train.groupby('eeg_id').apply(lambda x: len(np.unique(x['spectrogram_id'].values)))\n",
    "print(f'Non-unique spectrogram id upper bound:{tmp.max()}')\n",
    "tmp = train.groupby('spectrogram_id').apply(lambda x: len(np.unique(x['eeg_id'].values)))\n",
    "print(f'Non-unique eeg id upper bound:{tmp.max()}')\n",
    "# pd.DataFrame.groupby()\n",
    "train.head()\n"
   ],
   "id": "9f4e75a26c72a574",
   "outputs": [
    {
     "name": "stdout",
     "output_type": "stream",
     "text": [
      "Train non-overlapp eeg_id shape: (17089, 16)\n",
      "Train shape: (17089, 16)\n",
      "Targets ['seizure_vote', 'lpd_vote', 'gpd_vote', 'lrda_vote', 'grda_vote', 'other_vote']\n",
      "Unique EEG id: (17089,)\n",
      "Spectrogram id: (11138,)\n",
      "Unique EEG_Spectrogram id: 17089\n",
      "Non-unique spectrogram id upper bound:1\n",
      "Non-unique eeg id upper bound:107\n"
     ]
    },
    {
     "data": {
      "text/plain": [
       "   eeg_id  spectrogram_id  spec_min  spec_max  eeg_min  eeg_max   eeg_mean  \\\n",
       "0  568657       789577333       0.0      16.0      0.0     16.0   8.500000   \n",
       "1  582999      1552638400       0.0      38.0      0.0     38.0  17.454545   \n",
       "2  642382        14960202    1008.0    1032.0      0.0     24.0  12.000000   \n",
       "3  751790       618728447     908.0     908.0      0.0      0.0   0.000000   \n",
       "4  778705        52296320       0.0       0.0      0.0      0.0   0.000000   \n",
       "\n",
       "   patient_id  expert_numner  seizure_vote  lpd_vote  gpd_vote  lrda_vote  \\\n",
       "0       20654             48           0.0  0.000000      0.25   0.000000   \n",
       "1       20230            154           0.0  0.857143      0.00   0.071429   \n",
       "2        5955              2           0.0  0.000000      0.00   0.000000   \n",
       "3       38549              1           0.0  0.000000      1.00   0.000000   \n",
       "4       40955              2           0.0  0.000000      0.00   0.000000   \n",
       "\n",
       "   grda_vote  other_vote target  \n",
       "0   0.166667    0.583333  Other  \n",
       "1   0.000000    0.071429    LPD  \n",
       "2   0.000000    1.000000  Other  \n",
       "3   0.000000    0.000000    GPD  \n",
       "4   0.000000    1.000000  Other  "
      ],
      "text/html": [
       "<div>\n",
       "<style scoped>\n",
       "    .dataframe tbody tr th:only-of-type {\n",
       "        vertical-align: middle;\n",
       "    }\n",
       "\n",
       "    .dataframe tbody tr th {\n",
       "        vertical-align: top;\n",
       "    }\n",
       "\n",
       "    .dataframe thead th {\n",
       "        text-align: right;\n",
       "    }\n",
       "</style>\n",
       "<table border=\"1\" class=\"dataframe\">\n",
       "  <thead>\n",
       "    <tr style=\"text-align: right;\">\n",
       "      <th></th>\n",
       "      <th>eeg_id</th>\n",
       "      <th>spectrogram_id</th>\n",
       "      <th>spec_min</th>\n",
       "      <th>spec_max</th>\n",
       "      <th>eeg_min</th>\n",
       "      <th>eeg_max</th>\n",
       "      <th>eeg_mean</th>\n",
       "      <th>patient_id</th>\n",
       "      <th>expert_numner</th>\n",
       "      <th>seizure_vote</th>\n",
       "      <th>lpd_vote</th>\n",
       "      <th>gpd_vote</th>\n",
       "      <th>lrda_vote</th>\n",
       "      <th>grda_vote</th>\n",
       "      <th>other_vote</th>\n",
       "      <th>target</th>\n",
       "    </tr>\n",
       "  </thead>\n",
       "  <tbody>\n",
       "    <tr>\n",
       "      <th>0</th>\n",
       "      <td>568657</td>\n",
       "      <td>789577333</td>\n",
       "      <td>0.0</td>\n",
       "      <td>16.0</td>\n",
       "      <td>0.0</td>\n",
       "      <td>16.0</td>\n",
       "      <td>8.500000</td>\n",
       "      <td>20654</td>\n",
       "      <td>48</td>\n",
       "      <td>0.0</td>\n",
       "      <td>0.000000</td>\n",
       "      <td>0.25</td>\n",
       "      <td>0.000000</td>\n",
       "      <td>0.166667</td>\n",
       "      <td>0.583333</td>\n",
       "      <td>Other</td>\n",
       "    </tr>\n",
       "    <tr>\n",
       "      <th>1</th>\n",
       "      <td>582999</td>\n",
       "      <td>1552638400</td>\n",
       "      <td>0.0</td>\n",
       "      <td>38.0</td>\n",
       "      <td>0.0</td>\n",
       "      <td>38.0</td>\n",
       "      <td>17.454545</td>\n",
       "      <td>20230</td>\n",
       "      <td>154</td>\n",
       "      <td>0.0</td>\n",
       "      <td>0.857143</td>\n",
       "      <td>0.00</td>\n",
       "      <td>0.071429</td>\n",
       "      <td>0.000000</td>\n",
       "      <td>0.071429</td>\n",
       "      <td>LPD</td>\n",
       "    </tr>\n",
       "    <tr>\n",
       "      <th>2</th>\n",
       "      <td>642382</td>\n",
       "      <td>14960202</td>\n",
       "      <td>1008.0</td>\n",
       "      <td>1032.0</td>\n",
       "      <td>0.0</td>\n",
       "      <td>24.0</td>\n",
       "      <td>12.000000</td>\n",
       "      <td>5955</td>\n",
       "      <td>2</td>\n",
       "      <td>0.0</td>\n",
       "      <td>0.000000</td>\n",
       "      <td>0.00</td>\n",
       "      <td>0.000000</td>\n",
       "      <td>0.000000</td>\n",
       "      <td>1.000000</td>\n",
       "      <td>Other</td>\n",
       "    </tr>\n",
       "    <tr>\n",
       "      <th>3</th>\n",
       "      <td>751790</td>\n",
       "      <td>618728447</td>\n",
       "      <td>908.0</td>\n",
       "      <td>908.0</td>\n",
       "      <td>0.0</td>\n",
       "      <td>0.0</td>\n",
       "      <td>0.000000</td>\n",
       "      <td>38549</td>\n",
       "      <td>1</td>\n",
       "      <td>0.0</td>\n",
       "      <td>0.000000</td>\n",
       "      <td>1.00</td>\n",
       "      <td>0.000000</td>\n",
       "      <td>0.000000</td>\n",
       "      <td>0.000000</td>\n",
       "      <td>GPD</td>\n",
       "    </tr>\n",
       "    <tr>\n",
       "      <th>4</th>\n",
       "      <td>778705</td>\n",
       "      <td>52296320</td>\n",
       "      <td>0.0</td>\n",
       "      <td>0.0</td>\n",
       "      <td>0.0</td>\n",
       "      <td>0.0</td>\n",
       "      <td>0.000000</td>\n",
       "      <td>40955</td>\n",
       "      <td>2</td>\n",
       "      <td>0.0</td>\n",
       "      <td>0.000000</td>\n",
       "      <td>0.00</td>\n",
       "      <td>0.000000</td>\n",
       "      <td>0.000000</td>\n",
       "      <td>1.000000</td>\n",
       "      <td>Other</td>\n",
       "    </tr>\n",
       "  </tbody>\n",
       "</table>\n",
       "</div>"
      ]
     },
     "execution_count": 10,
     "metadata": {},
     "output_type": "execute_result"
    }
   ],
   "execution_count": 10
  },
  {
   "metadata": {
    "ExecuteTime": {
     "end_time": "2024-12-06T21:00:12.246424Z",
     "start_time": "2024-12-06T21:00:12.236423Z"
    }
   },
   "cell_type": "code",
   "source": "train[train.eeg_id == 642382]",
   "id": "da87b35790d9b4c2",
   "outputs": [
    {
     "data": {
      "text/plain": [
       "   eeg_id  spectrogram_id  spec_min  spec_max  eeg_min  eeg_max  eeg_mean  \\\n",
       "2  642382        14960202    1008.0    1032.0      0.0     24.0      12.0   \n",
       "\n",
       "   patient_id  expert_numner  seizure_vote  lpd_vote  gpd_vote  lrda_vote  \\\n",
       "2        5955              2           0.0       0.0       0.0        0.0   \n",
       "\n",
       "   grda_vote  other_vote target  \n",
       "2        0.0         1.0  Other  "
      ],
      "text/html": [
       "<div>\n",
       "<style scoped>\n",
       "    .dataframe tbody tr th:only-of-type {\n",
       "        vertical-align: middle;\n",
       "    }\n",
       "\n",
       "    .dataframe tbody tr th {\n",
       "        vertical-align: top;\n",
       "    }\n",
       "\n",
       "    .dataframe thead th {\n",
       "        text-align: right;\n",
       "    }\n",
       "</style>\n",
       "<table border=\"1\" class=\"dataframe\">\n",
       "  <thead>\n",
       "    <tr style=\"text-align: right;\">\n",
       "      <th></th>\n",
       "      <th>eeg_id</th>\n",
       "      <th>spectrogram_id</th>\n",
       "      <th>spec_min</th>\n",
       "      <th>spec_max</th>\n",
       "      <th>eeg_min</th>\n",
       "      <th>eeg_max</th>\n",
       "      <th>eeg_mean</th>\n",
       "      <th>patient_id</th>\n",
       "      <th>expert_numner</th>\n",
       "      <th>seizure_vote</th>\n",
       "      <th>lpd_vote</th>\n",
       "      <th>gpd_vote</th>\n",
       "      <th>lrda_vote</th>\n",
       "      <th>grda_vote</th>\n",
       "      <th>other_vote</th>\n",
       "      <th>target</th>\n",
       "    </tr>\n",
       "  </thead>\n",
       "  <tbody>\n",
       "    <tr>\n",
       "      <th>2</th>\n",
       "      <td>642382</td>\n",
       "      <td>14960202</td>\n",
       "      <td>1008.0</td>\n",
       "      <td>1032.0</td>\n",
       "      <td>0.0</td>\n",
       "      <td>24.0</td>\n",
       "      <td>12.0</td>\n",
       "      <td>5955</td>\n",
       "      <td>2</td>\n",
       "      <td>0.0</td>\n",
       "      <td>0.0</td>\n",
       "      <td>0.0</td>\n",
       "      <td>0.0</td>\n",
       "      <td>0.0</td>\n",
       "      <td>1.0</td>\n",
       "      <td>Other</td>\n",
       "    </tr>\n",
       "  </tbody>\n",
       "</table>\n",
       "</div>"
      ]
     },
     "execution_count": 11,
     "metadata": {},
     "output_type": "execute_result"
    }
   ],
   "execution_count": 11
  },
  {
   "metadata": {},
   "cell_type": "markdown",
   "source": "### Loading EEG_SPEC and SPEC data",
   "id": "b792363afc7da5b4"
  },
  {
   "metadata": {
    "ExecuteTime": {
     "end_time": "2024-12-06T21:05:54.475276Z",
     "start_time": "2024-12-06T21:05:54.468698Z"
    }
   },
   "cell_type": "code",
   "source": [
    "eeg = np.load('./dataset/non_overlap_eeg_specs_non_denoise_sample.npy', allow_pickle=True).item()\n",
    "spectrograms = np.load('./dataset/spec_sample.npy',allow_pickle=True).item()"
   ],
   "id": "1487a9a2b2e9fae4",
   "outputs": [],
   "execution_count": 17
  },
  {
   "metadata": {},
   "cell_type": "markdown",
   "source": "### Dataloader for training",
   "id": "148b9fcc9dec056e"
  },
  {
   "metadata": {
    "ExecuteTime": {
     "end_time": "2024-12-06T21:04:58.863010Z",
     "start_time": "2024-12-06T21:04:57.936012Z"
    }
   },
   "cell_type": "code",
   "source": [
    "import albumentations as albu\n",
    "TARS = {'Seizure':0, 'LPD':1, 'GPD':2, 'LRDA':3, 'GRDA':4, 'Other':5}\n",
    "TARS2 = {x:y for y,x in TARS.items()}\n",
    "\n",
    "class DataGenerator(tf.keras.utils.Sequence):\n",
    "    'Generates data for Keras'\n",
    "    def __init__(self, data, batch_size=32, shuffle=False, augment=False, mode='train',\n",
    "                 specs = spectrograms, eeg_specs = all_eegs):\n",
    "\n",
    "        self.data = data\n",
    "        self.batch_size = batch_size\n",
    "        self.shuffle = shuffle\n",
    "        self.augment = augment\n",
    "        self.mode = mode\n",
    "        self.specs = specs\n",
    "        self.eeg_specs = eeg_specs\n",
    "        self.on_epoch_end()\n",
    "\n",
    "    def __len__(self):\n",
    "        'Denotes the number of batches per epoch'\n",
    "        ct = int( np.ceil( len(self.data) / self.batch_size ) )\n",
    "        return ct\n",
    "\n",
    "    def __getitem__(self, index):\n",
    "        'Generate one batch of data'\n",
    "        indexes = self.indexes[index*self.batch_size:(index+1)*self.batch_size]\n",
    "        X, y = self.__data_generation(indexes)\n",
    "        if self.augment: X = self.__augment_batch(X)\n",
    "        return X, y\n",
    "\n",
    "    def on_epoch_end(self):\n",
    "        'Updates indexes after each epoch'\n",
    "        self.indexes = np.arange( len(self.data) )\n",
    "        if self.shuffle: np.random.shuffle(self.indexes)\n",
    "\n",
    "    def __data_generation(self, indexes):\n",
    "        'Generates data containing batch_size samples'\n",
    "\n",
    "        X = np.zeros((len(indexes),128,256,8),dtype='float32')\n",
    "        y = np.zeros((len(indexes),6),dtype='float32')\n",
    "        img = np.ones((128,256),dtype='float32')\n",
    "\n",
    "        for j,i in enumerate(indexes):\n",
    "            row = self.data.iloc[i]\n",
    "            if self.mode=='test':\n",
    "                r = 0\n",
    "            else:\n",
    "                r = int( (row['min'] + row['max'])//4 )\n",
    "\n",
    "            for k in range(4):\n",
    "                # EXTRACT 300 ROWS OF SPECTROGRAM\n",
    "                img = self.specs[row.spec_id][r:r+300,k*100:(k+1)*100].T\n",
    "\n",
    "                # LOG TRANSFORM SPECTROGRAM\n",
    "                img = np.clip(img,np.exp(-4),np.exp(8))\n",
    "                img = np.log(img)\n",
    "\n",
    "                # STANDARDIZE PER IMAGE\n",
    "                ep = 1e-6\n",
    "                m = np.nanmean(img.flatten())\n",
    "                s = np.nanstd(img.flatten())\n",
    "                img = (img-m)/(s+ep)\n",
    "                img = np.nan_to_num(img, nan=0.0)\n",
    "\n",
    "                # CROP TO 256 TIME STEPS\n",
    "                X[j,14:-14,:,k] = img[:,22:-22] / 2.0\n",
    "\n",
    "            # EEG SPECTROGRAMS\n",
    "            img = self.eeg_specs[row.eeg_id]\n",
    "            X[j,:,:,4:] = img\n",
    "\n",
    "            if self.mode!='test':\n",
    "                y[j,] = row[TARGETS]\n",
    "\n",
    "        return X,y\n",
    "\n",
    "    def __random_transform(self, img):\n",
    "        composition = albu.Compose([\n",
    "            albu.HorizontalFlip(p=0.5),\n",
    "            #albu.CoarseDropout(max_holes=8,max_height=32,max_width=32,fill_value=0,p=0.5),\n",
    "        ])\n",
    "        return composition(image=img)['image']\n",
    "\n",
    "    def __augment_batch(self, img_batch):\n",
    "        for i in range(img_batch.shape[0]):\n",
    "            img_batch[i, ] = self.__random_transform(img_batch[i, ])\n",
    "        return img_batch"
   ],
   "id": "1e5dc0e8c61a66b2",
   "outputs": [
    {
     "name": "stderr",
     "output_type": "stream",
     "text": [
      "/Users/maxiaohang/miniforge3/lib/python3.9/site-packages/albumentations/__init__.py:24: UserWarning: A new version of Albumentations is available: 1.4.21 (you have 1.4.22). Upgrade using: pip install -U albumentations. To disable automatic update checks, set the environment variable NO_ALBUMENTATIONS_UPDATE to 1.\n",
      "  check_for_updates()\n"
     ]
    },
    {
     "ename": "NameError",
     "evalue": "name 'tf' is not defined",
     "output_type": "error",
     "traceback": [
      "\u001B[0;31m---------------------------------------------------------------------------\u001B[0m",
      "\u001B[0;31mNameError\u001B[0m                                 Traceback (most recent call last)",
      "Cell \u001B[0;32mIn[16], line 5\u001B[0m\n\u001B[1;32m      2\u001B[0m TARS \u001B[38;5;241m=\u001B[39m {\u001B[38;5;124m'\u001B[39m\u001B[38;5;124mSeizure\u001B[39m\u001B[38;5;124m'\u001B[39m:\u001B[38;5;241m0\u001B[39m, \u001B[38;5;124m'\u001B[39m\u001B[38;5;124mLPD\u001B[39m\u001B[38;5;124m'\u001B[39m:\u001B[38;5;241m1\u001B[39m, \u001B[38;5;124m'\u001B[39m\u001B[38;5;124mGPD\u001B[39m\u001B[38;5;124m'\u001B[39m:\u001B[38;5;241m2\u001B[39m, \u001B[38;5;124m'\u001B[39m\u001B[38;5;124mLRDA\u001B[39m\u001B[38;5;124m'\u001B[39m:\u001B[38;5;241m3\u001B[39m, \u001B[38;5;124m'\u001B[39m\u001B[38;5;124mGRDA\u001B[39m\u001B[38;5;124m'\u001B[39m:\u001B[38;5;241m4\u001B[39m, \u001B[38;5;124m'\u001B[39m\u001B[38;5;124mOther\u001B[39m\u001B[38;5;124m'\u001B[39m:\u001B[38;5;241m5\u001B[39m}\n\u001B[1;32m      3\u001B[0m TARS2 \u001B[38;5;241m=\u001B[39m {x:y \u001B[38;5;28;01mfor\u001B[39;00m y,x \u001B[38;5;129;01min\u001B[39;00m TARS\u001B[38;5;241m.\u001B[39mitems()}\n\u001B[0;32m----> 5\u001B[0m \u001B[38;5;28;01mclass\u001B[39;00m \u001B[38;5;21;01mDataGenerator\u001B[39;00m(\u001B[43mtf\u001B[49m\u001B[38;5;241m.\u001B[39mkeras\u001B[38;5;241m.\u001B[39mutils\u001B[38;5;241m.\u001B[39mSequence):\n\u001B[1;32m      6\u001B[0m     \u001B[38;5;124m'\u001B[39m\u001B[38;5;124mGenerates data for Keras\u001B[39m\u001B[38;5;124m'\u001B[39m\n\u001B[1;32m      7\u001B[0m     \u001B[38;5;28;01mdef\u001B[39;00m \u001B[38;5;21m__init__\u001B[39m(\u001B[38;5;28mself\u001B[39m, data, batch_size\u001B[38;5;241m=\u001B[39m\u001B[38;5;241m32\u001B[39m, shuffle\u001B[38;5;241m=\u001B[39m\u001B[38;5;28;01mFalse\u001B[39;00m, augment\u001B[38;5;241m=\u001B[39m\u001B[38;5;28;01mFalse\u001B[39;00m, mode\u001B[38;5;241m=\u001B[39m\u001B[38;5;124m'\u001B[39m\u001B[38;5;124mtrain\u001B[39m\u001B[38;5;124m'\u001B[39m,\n\u001B[1;32m      8\u001B[0m                  specs \u001B[38;5;241m=\u001B[39m spectrograms, eeg_specs \u001B[38;5;241m=\u001B[39m all_eegs):\n",
      "\u001B[0;31mNameError\u001B[0m: name 'tf' is not defined"
     ]
    }
   ],
   "execution_count": 16
  },
  {
   "metadata": {},
   "cell_type": "markdown",
   "source": "### You may need to integrate the build_model() below with our unet_global() model ",
   "id": "264b7a022d53a7e2"
  },
  {
   "metadata": {},
   "cell_type": "code",
   "outputs": [],
   "execution_count": null,
   "source": [
    "USE_KAGGLE_SPECTROGRAMS = True\n",
    "USE_EEG_SPECTROGRAMS = True\n",
    "def build_model():\n",
    "\n",
    "    inp = tf.keras.Input(shape=(128,256,8))\n",
    "    base_model = None \n",
    "    \n",
    "    # RESHAPE INPUT 128x256x8 => 512x512x3 MONOTONE IMAGE\n",
    "    # KAGGLE SPECTROGRAMS\n",
    "    x1 = [inp[:,:,:,i:i+1] for i in range(4)]\n",
    "    x1 = tf.keras.layers.Concatenate(axis=1)(x1)\n",
    "    # EEG SPECTROGRAMS\n",
    "    x2 = [inp[:,:,:,i+4:i+5] for i in range(4)]\n",
    "    x2 = tf.keras.layers.Concatenate(axis=1)(x2)\n",
    "    # MAKE 512X512X3\n",
    "    if USE_KAGGLE_SPECTROGRAMS & USE_EEG_SPECTROGRAMS:\n",
    "        x = tf.keras.layers.Concatenate(axis=2)([x1,x2])\n",
    "    elif USE_EEG_SPECTROGRAMS: x = x2\n",
    "    else: x = x1\n",
    "    x = tf.keras.layers.Concatenate(axis=3)([x,x,x])\n",
    "\n",
    "    # OUTPUT\n",
    "    x = base_model(x)\n",
    "    x = tf.keras.layers.GlobalAveragePooling2D()(x)\n",
    "    x = tf.keras.layers.Dense(6,activation='softmax', dtype='float32')(x)\n",
    "\n",
    "    # COMPILE MODEL\n",
    "    model = tf.keras.Model(inputs=inp, outputs=x)\n",
    "    opt = tf.keras.optimizers.Adam(learning_rate = 1e-3)\n",
    "    loss = tf.keras.losses.KLDivergence()\n",
    "\n",
    "    model.compile(loss=loss, optimizer = opt)\n",
    "\n",
    "    return model"
   ],
   "id": "1dfb9cd368237b7"
  }
 ],
 "metadata": {
  "kernelspec": {
   "display_name": "Python 3",
   "language": "python",
   "name": "python3"
  },
  "language_info": {
   "codemirror_mode": {
    "name": "ipython",
    "version": 2
   },
   "file_extension": ".py",
   "mimetype": "text/x-python",
   "name": "python",
   "nbconvert_exporter": "python",
   "pygments_lexer": "ipython2",
   "version": "2.7.6"
  }
 },
 "nbformat": 4,
 "nbformat_minor": 5
}
